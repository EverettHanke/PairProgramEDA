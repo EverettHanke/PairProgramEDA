{
 "cells": [
  {
   "cell_type": "code",
   "execution_count": null,
   "id": "32329ff3",
   "metadata": {},
   "outputs": [],
   "source": [
    "import pandas as pd\n",
    "import matplotlib.pyplot as plt\n",
    "import seaborn as sns "
   ]
  },
  {
   "cell_type": "markdown",
   "id": "9e71def8",
   "metadata": {},
   "source": [
    "After importing the needed libraries. We wanted to read out the data in our csv file"
   ]
  },
  {
   "cell_type": "code",
   "execution_count": null,
   "id": "b2bf216b",
   "metadata": {},
   "outputs": [],
   "source": [
    "path = '2022/heart_2022_with_nans.csv'\n",
    "data = pd.read_csv(path)\n",
    "#print the data out\n",
    "print(data.head())"
   ]
  },
  {
   "cell_type": "markdown",
   "id": "26478bfb",
   "metadata": {},
   "source": [
    "Then we check for a list of all columns in our record and drop all data that is empty to clean things out"
   ]
  },
  {
   "cell_type": "code",
   "execution_count": null,
   "id": "389320e8",
   "metadata": {},
   "outputs": [],
   "source": [
    "# Step 1: List all columns and number of records\n",
    "print(\"Columns:\", data.columns)\n",
    "print(\"Number of records:\", data.shape[0])\n",
    "\n",
    "# Step 2: Check for missing values\n",
    "missing_values = data[data.isna()]\n",
    "print(\"Missing values: \", missing_values)"
   ]
  },
  {
   "cell_type": "markdown",
   "id": "aff0ff7e",
   "metadata": {},
   "source": [
    "Our last steps of the cleaning process is to check for missing columns "
   ]
  },
  {
   "cell_type": "code",
   "execution_count": null,
   "id": "ef222284",
   "metadata": {},
   "outputs": [],
   "source": [
    "# Step 3: Drop rows with missing values\n",
    "data_cleaned = data.dropna()\n",
    "print(\"Number of records after dropping missing values:\", data_cleaned.shape[0])\n",
    "print(\"Missing values after dropping: \", data_cleaned[data_cleaned.isna()])"
   ]
  },
  {
   "cell_type": "markdown",
   "id": "633230ad",
   "metadata": {},
   "source": [
    "Next We wanted to display a few basic visualizations. We decided to create a bar graph showing the correlation of heart attacks and a persons sex and general health. "
   ]
  },
  {
   "cell_type": "code",
   "execution_count": null,
   "id": "db38d94d",
   "metadata": {},
   "outputs": [],
   "source": [
    "categorical_cols = ['Sex', 'GeneralHealth']\n",
    "\n",
    "for col in categorical_cols:\n",
    "    plt.figure(figsize=(8, 5))\n",
    "    sns.countplot(data=data_cleaned, x=col, hue='HadHeartAttack')\n",
    "    plt.title(f'{col} Distribution by Heart Attack Status')\n",
    "    plt.xlabel(col)\n",
    "    plt.ylabel('Count')\n",
    "    plt.legend(title='Had Heart Attack')\n",
    "    plt.xticks(rotation=30)\n",
    "    plt.tight_layout()\n",
    "    plt.show()"
   ]
  },
  {
   "cell_type": "markdown",
   "id": "cbb92eb9",
   "metadata": {},
   "source": [
    "For our Histograms we decided to check the correlations between BMI and Sleephours. "
   ]
  },
  {
   "cell_type": "code",
   "execution_count": null,
   "id": "76873222",
   "metadata": {},
   "outputs": [],
   "source": [
    "#BMI and SleepHours are numeric columns\n",
    "numeric_cols = ['BMI', 'SleepHours']\n",
    "\n",
    "for col in numeric_cols:\n",
    "    plt.figure(figsize=(8, 5))\n",
    "    sns.histplot(data=data_cleaned, x=col, hue='HadHeartAttack', kde=True, bins=30)\n",
    "    plt.title(f'{col} Distribution by Heart Attack Status')\n",
    "    plt.xlabel(col)\n",
    "    plt.ylabel('Count')\n",
    "    plt.tight_layout()\n",
    "    plt.show()"
   ]
  },
  {
   "cell_type": "markdown",
   "id": "7262cda9",
   "metadata": {},
   "source": [
    "And for our Pie chars we decided to check correlations between covid positive and negative heart attack risks along with Flu vaxinated persons and their risk of heart attack "
   ]
  },
  {
   "cell_type": "code",
   "execution_count": null,
   "id": "c346d0ff",
   "metadata": {},
   "outputs": [],
   "source": [
    "binary_cols = ['CovidPos', 'FluVaxLast12']\n",
    "\n",
    "for col in binary_cols:\n",
    "    # Cross-tab for better labeling\n",
    "    cross = pd.crosstab(data_cleaned[col], data['HadHeartAttack'])\n",
    "\n",
    "    for val in cross.index:\n",
    "        plt.figure(figsize=(5, 5))\n",
    "        plt.pie(cross.loc[val], labels=['No Heart Attack', 'Heart Attack'], \n",
    "                autopct='%1.1f%%', startangle=90, colors=['#66b3ff', '#ff9999'])\n",
    "        plt.title(f'Heart Attack Rate for {col} = {val}')\n",
    "        plt.tight_layout()\n",
    "        plt.show()"
   ]
  },
  {
   "cell_type": "markdown",
   "id": "d00d476e",
   "metadata": {},
   "source": [
    "Now comes the deeper push! We worked together to find a way of creating a HeatMap of of all the columns in our data set and this allows us to look deeper into potential correlation  and determine if any can be considered causation."
   ]
  },
  {
   "cell_type": "code",
   "execution_count": null,
   "id": "f0381707",
   "metadata": {},
   "outputs": [],
   "source": [
    "\n",
    "# 1. Copy & encode your target as numeric\n",
    "df_hm = data_cleaned.copy()\n",
    "df_hm['HadHeartAttack_flag'] = df_hm['HadHeartAttack'].map({'No': 0, 'Yes': 1})\n",
    "\n",
    "# 2. Identify your original numeric features (exclude the flag for now)\n",
    "numeric_feats = df_hm.select_dtypes(include='number').columns.drop('HadHeartAttack_flag')\n",
    "\n",
    "# 3. Build a full corr matrix including the flag\n",
    "all_cols = list(numeric_feats) + ['HadHeartAttack_flag']\n",
    "corr = df_hm[all_cols].corr()\n",
    "\n",
    "# 4. Compute each feature’s correlation to the target\n",
    "corr_with_target = corr['HadHeartAttack_flag']\n",
    "\n",
    "# 5. Overwrite the diagonal entries for the original features\n",
    "for feat in numeric_feats:\n",
    "    corr.at[feat, feat] = corr_with_target[feat]\n",
    "\n",
    "# 6. Plot the heatmap\n",
    "plt.figure(figsize=(10, 8))\n",
    "sns.heatmap(\n",
    "    corr,\n",
    "    annot=True,            # show correlation coefficients\n",
    "    fmt=\".2f\",\n",
    "    cmap=\"coolwarm\",\n",
    "    center=0,\n",
    "    square=True,\n",
    "    linewidths=.5\n",
    ")\n",
    "plt.title(\"Correlation Heatmap\\n(diagonal = corr(feature, HadHeartAttack))\")\n",
    "plt.tight_layout()\n",
    "plt.show()"
   ]
  },
  {
   "cell_type": "markdown",
   "id": "d449f0ae",
   "metadata": {},
   "source": [
    "Q: What are some limitations of this dataset?\n",
    "\n",
    "A: General Health being non numbered is definently a limitation of this data set.\n",
    "\n",
    "Q: What kinds of biases or missing contexts might affect a model trained on this data?\n",
    "\n",
    "A: This data set may not represent the entire population and may have skewed numbers in relation to age groups, genders, and geographic locations. \n",
    "\n",
    "Q: If you built an AI model using this dataset, what are some ethical or practical concerns you'd want to raise?\n",
    "\n",
    "A: I would ensure that the model is trained only using clinical data filtered by medical professionals.\n",
    "\n",
    "Q: How did you use AI in this process? Was it helpful? Frustrating? Would you do anything differently next time?\n",
    "\n",
    "A: AI is okay in helping from time to time. I tried to use ChatGPT for the data visualization and it didn't understand what I wanted for the heat map. It lacked a lot of context and understanding of the columns and parameters we were working with. It requires a good chunk of fine tuning in order to get the result you were looking for."
   ]
  }
 ],
 "metadata": {
  "kernelspec": {
   "display_name": "Python 3",
   "language": "python",
   "name": "python3"
  },
  "language_info": {
   "codemirror_mode": {
    "name": "ipython",
    "version": 3
   },
   "file_extension": ".py",
   "mimetype": "text/x-python",
   "name": "python",
   "nbconvert_exporter": "python",
   "pygments_lexer": "ipython3",
   "version": "3.13.1"
  }
 },
 "nbformat": 4,
 "nbformat_minor": 5
}
